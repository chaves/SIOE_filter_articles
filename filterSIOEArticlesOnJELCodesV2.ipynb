{
 "cells": [
  {
   "cell_type": "code",
   "execution_count": 1,
   "metadata": {},
   "outputs": [],
   "source": [
    "import pandas as pd\n",
    "import re\n",
    "import ast\n",
    "import datetime"
   ]
  },
  {
   "cell_type": "markdown",
   "metadata": {},
   "source": [
    "*Nouvel algorithme*\n",
    "\n",
    "Conserver tous les codes utilisés par les membres du board (au moins deux fois), \n",
    "mais ne retenir ensuite que les articles n’utilisant que des codes compris dans ces catégories \n",
    "(en continuant de ne pas tenir compte des tous les codes commençant par A, B, C, Y, et  L6 à L9)"
   ]
  },
  {
   "cell_type": "code",
   "execution_count": 2,
   "metadata": {},
   "outputs": [],
   "source": [
    "TODAY = datetime.datetime.now().strftime('%Y-%m-%d')\n",
    "\n",
    "JOURNALS_DB_SOURCE = './sources/SIOE_ARTICLES_1998_2019_source.xlsx'\n",
    "CODES_BOARD_SOURCE = './sources/JEL_BOARD_source.xlsx'\n",
    "\n",
    "JOURNALS_DB_OUTPUT = './output/SIOE_journals_1998_2019_{}.xlsx'.format(TODAY)\n",
    "CODES_BOARD_OUTPUT = './output/JEL_BOARD_{}.xlsx'.format(TODAY)"
   ]
  },
  {
   "cell_type": "markdown",
   "metadata": {},
   "source": [
    "### Regular expressions"
   ]
  },
  {
   "cell_type": "code",
   "execution_count": 3,
   "metadata": {},
   "outputs": [],
   "source": [
    "# keep titles with specific keywords\n",
    "goods_titles_pattern = re.compile(r'\\bcontracts?(?:ual)?\\b|\\binstitutions?(?:nal)?\\b|\\borgani[sz]ations?\\b',\n",
    "                                  flags=re.IGNORECASE)\n",
    "goods_titles_regex = lambda x: True if goods_titles_pattern.search(x) else False"
   ]
  },
  {
   "cell_type": "code",
   "execution_count": 4,
   "metadata": {},
   "outputs": [],
   "source": [
    "# remove non relevant JEL codes\n",
    "bad_codes_pattern = re.compile(r'[A-CY]\\d{2}|L[6-9]\\d{1}')\n",
    "good_code = lambda x: 'NO_BAD_CODE' if bad_codes_pattern.search(x) else 'YES'"
   ]
  },
  {
   "cell_type": "markdown",
   "metadata": {},
   "source": [
    "### Read data"
   ]
  },
  {
   "cell_type": "code",
   "execution_count": 5,
   "metadata": {},
   "outputs": [
    {
     "data": {
      "text/html": [
       "<div>\n",
       "<style scoped>\n",
       "    .dataframe tbody tr th:only-of-type {\n",
       "        vertical-align: middle;\n",
       "    }\n",
       "\n",
       "    .dataframe tbody tr th {\n",
       "        vertical-align: top;\n",
       "    }\n",
       "\n",
       "    .dataframe thead th {\n",
       "        text-align: right;\n",
       "    }\n",
       "</style>\n",
       "<table border=\"1\" class=\"dataframe\">\n",
       "  <thead>\n",
       "    <tr style=\"text-align: right;\">\n",
       "      <th></th>\n",
       "      <th>id</th>\n",
       "      <th>review</th>\n",
       "      <th>year</th>\n",
       "      <th>accept</th>\n",
       "      <th>title</th>\n",
       "      <th>jel</th>\n",
       "      <th>keywords</th>\n",
       "      <th>abstract</th>\n",
       "      <th>authors</th>\n",
       "      <th>affiliations</th>\n",
       "    </tr>\n",
       "  </thead>\n",
       "  <tbody>\n",
       "    <tr>\n",
       "      <th>0</th>\n",
       "      <td>4420</td>\n",
       "      <td>American Economic Review</td>\n",
       "      <td>2019</td>\n",
       "      <td>NaN</td>\n",
       "      <td>(Mis)Allocation, Market Power, and Global Oil ...</td>\n",
       "      <td>['D24', 'F23', 'L13', 'L71', 'Q35']</td>\n",
       "      <td>Cost; Crude Oil; Oil; Production</td>\n",
       "      <td>We propose an approach to measuring the misall...</td>\n",
       "      <td>Asker, John; Collard-Wexler, Allan; De Loecker...</td>\n",
       "      <td>Columbia U; Duke U; Katholieke Universiteit Le...</td>\n",
       "    </tr>\n",
       "    <tr>\n",
       "      <th>1</th>\n",
       "      <td>4405</td>\n",
       "      <td>American Economic Review</td>\n",
       "      <td>2019</td>\n",
       "      <td>NaN</td>\n",
       "      <td>A Macroeconomic Model of Price Swings in the H...</td>\n",
       "      <td>['E44', 'G21', 'R31']</td>\n",
       "      <td>Credit; Finance; Financial Market; Housing; Ma...</td>\n",
       "      <td>This paper shows that a macro model with segme...</td>\n",
       "      <td>Garriga, Carlos; Manuelli, Rodolfo; Peralta-Al...</td>\n",
       "      <td>Federal Reserve Bank of St Louis; Washington U...</td>\n",
       "    </tr>\n",
       "  </tbody>\n",
       "</table>\n",
       "</div>"
      ],
      "text/plain": [
       "     id                    review  year  accept  \\\n",
       "0  4420  American Economic Review  2019     NaN   \n",
       "1  4405  American Economic Review  2019     NaN   \n",
       "\n",
       "                                               title  \\\n",
       "0  (Mis)Allocation, Market Power, and Global Oil ...   \n",
       "1  A Macroeconomic Model of Price Swings in the H...   \n",
       "\n",
       "                                   jel  \\\n",
       "0  ['D24', 'F23', 'L13', 'L71', 'Q35']   \n",
       "1                ['E44', 'G21', 'R31']   \n",
       "\n",
       "                                            keywords  \\\n",
       "0                   Cost; Crude Oil; Oil; Production   \n",
       "1  Credit; Finance; Financial Market; Housing; Ma...   \n",
       "\n",
       "                                            abstract  \\\n",
       "0  We propose an approach to measuring the misall...   \n",
       "1  This paper shows that a macro model with segme...   \n",
       "\n",
       "                                             authors  \\\n",
       "0  Asker, John; Collard-Wexler, Allan; De Loecker...   \n",
       "1  Garriga, Carlos; Manuelli, Rodolfo; Peralta-Al...   \n",
       "\n",
       "                                        affiliations  \n",
       "0  Columbia U; Duke U; Katholieke Universiteit Le...  \n",
       "1  Federal Reserve Bank of St Louis; Washington U...  "
      ]
     },
     "execution_count": 5,
     "metadata": {},
     "output_type": "execute_result"
    }
   ],
   "source": [
    "df_articles = pd.read_excel(JOURNALS_DB_SOURCE)\n",
    "df_articles.head(2)"
   ]
  },
  {
   "cell_type": "code",
   "execution_count": 6,
   "metadata": {},
   "outputs": [
    {
     "data": {
      "text/html": [
       "<div>\n",
       "<style scoped>\n",
       "    .dataframe tbody tr th:only-of-type {\n",
       "        vertical-align: middle;\n",
       "    }\n",
       "\n",
       "    .dataframe tbody tr th {\n",
       "        vertical-align: top;\n",
       "    }\n",
       "\n",
       "    .dataframe thead th {\n",
       "        text-align: right;\n",
       "    }\n",
       "</style>\n",
       "<table border=\"1\" class=\"dataframe\">\n",
       "  <thead>\n",
       "    <tr style=\"text-align: right;\">\n",
       "      <th></th>\n",
       "      <th>code</th>\n",
       "      <th>accept</th>\n",
       "      <th>total</th>\n",
       "      <th>name</th>\n",
       "    </tr>\n",
       "  </thead>\n",
       "  <tbody>\n",
       "    <tr>\n",
       "      <th>0</th>\n",
       "      <td>D23</td>\n",
       "      <td>NaN</td>\n",
       "      <td>143</td>\n",
       "      <td>Organizational Behavior; Transaction Costs; Pr...</td>\n",
       "    </tr>\n",
       "    <tr>\n",
       "      <th>1</th>\n",
       "      <td>D72</td>\n",
       "      <td>NaN</td>\n",
       "      <td>122</td>\n",
       "      <td>Political Processes: Rent-seeking, Lobbying, E...</td>\n",
       "    </tr>\n",
       "  </tbody>\n",
       "</table>\n",
       "</div>"
      ],
      "text/plain": [
       "  code  accept  total                                               name\n",
       "0  D23     NaN    143  Organizational Behavior; Transaction Costs; Pr...\n",
       "1  D72     NaN    122  Political Processes: Rent-seeking, Lobbying, E..."
      ]
     },
     "execution_count": 6,
     "metadata": {},
     "output_type": "execute_result"
    }
   ],
   "source": [
    "df_codes = pd.read_excel(CODES_BOARD_SOURCE)\n",
    "df_codes.head(2)"
   ]
  },
  {
   "cell_type": "markdown",
   "metadata": {},
   "source": [
    "### Filter codes"
   ]
  },
  {
   "cell_type": "markdown",
   "metadata": {},
   "source": [
    "**First filter** : don't accept [A-CY]\\d{2}|L[6-9]\\d{1}"
   ]
  },
  {
   "cell_type": "code",
   "execution_count": 7,
   "metadata": {},
   "outputs": [],
   "source": [
    "df_codes['accept'] = df_codes.code.apply(good_code)"
   ]
  },
  {
   "cell_type": "code",
   "execution_count": 8,
   "metadata": {},
   "outputs": [
    {
     "data": {
      "text/plain": [
       "65"
      ]
     },
     "execution_count": 8,
     "metadata": {},
     "output_type": "execute_result"
    }
   ],
   "source": [
    "len(df_codes[df_codes.accept == 'NO_BAD_CODE'])"
   ]
  },
  {
   "cell_type": "markdown",
   "metadata": {},
   "source": [
    "**Second filter** : too rare JEL codes with exceptions"
   ]
  },
  {
   "cell_type": "code",
   "execution_count": 9,
   "metadata": {},
   "outputs": [],
   "source": [
    "def no_less_than_except_list(row, no_less, except_list):\n",
    "    return 'NO_TOO_RARE' if row.total < no_less and row.code not in except_list else row.accept"
   ]
  },
  {
   "cell_type": "code",
   "execution_count": 10,
   "metadata": {},
   "outputs": [],
   "source": [
    "no_less = 2\n",
    "except_list = ['K23', 'L31', 'L41']\n",
    "df_codes['accept'] = df_codes.apply(lambda row: no_less_than_except_list(row, no_less, except_list), axis = 1)"
   ]
  },
  {
   "cell_type": "code",
   "execution_count": 11,
   "metadata": {},
   "outputs": [
    {
     "data": {
      "text/plain": [
       "92"
      ]
     },
     "execution_count": 11,
     "metadata": {},
     "output_type": "execute_result"
    }
   ],
   "source": [
    "len(df_codes[df_codes.accept == 'NO_TOO_RARE'])"
   ]
  },
  {
   "cell_type": "markdown",
   "metadata": {},
   "source": [
    "**Total of accepted codes**"
   ]
  },
  {
   "cell_type": "code",
   "execution_count": 12,
   "metadata": {},
   "outputs": [
    {
     "data": {
      "text/plain": [
       "327"
      ]
     },
     "execution_count": 12,
     "metadata": {},
     "output_type": "execute_result"
    }
   ],
   "source": [
    "len(df_codes[df_codes.accept == 'YES'])"
   ]
  },
  {
   "cell_type": "markdown",
   "metadata": {},
   "source": [
    "### Create \"styled\" codes file "
   ]
  },
  {
   "cell_type": "code",
   "execution_count": 13,
   "metadata": {},
   "outputs": [],
   "source": [
    "def highlight_cells_codes(row):\n",
    "    if row.accept == 'NO_BAD_CODE':\n",
    "        return ['background-color: #ffc2c2'] * len(row)\n",
    "    elif row.accept == 'NO_TOO_RARE':\n",
    "        return ['background-color: #f4b5ff'] * len(row)\n",
    "    else:\n",
    "        return [''] * len(row)"
   ]
  },
  {
   "cell_type": "code",
   "execution_count": 14,
   "metadata": {},
   "outputs": [],
   "source": [
    "df_codes.style.apply(lambda row: highlight_cells_codes(row), axis=1).to_excel(CODES_BOARD_OUTPUT,index=False)"
   ]
  },
  {
   "cell_type": "markdown",
   "metadata": {},
   "source": [
    "### Create dictionary with the codes"
   ]
  },
  {
   "cell_type": "code",
   "execution_count": 15,
   "metadata": {},
   "outputs": [],
   "source": [
    "codes_dic = dict(zip(df_codes.code, df_codes.accept))"
   ]
  },
  {
   "cell_type": "markdown",
   "metadata": {},
   "source": [
    "### Match articles"
   ]
  },
  {
   "cell_type": "markdown",
   "metadata": {},
   "source": [
    "- Uniquement des codes du board \n",
    "- Ne pas tenir compte des tous les codes commençant par A, B, C, Y, et  L6 à L9"
   ]
  },
  {
   "cell_type": "code",
   "execution_count": 16,
   "metadata": {},
   "outputs": [],
   "source": [
    "remove_sectors_codes = lambda codes: [c for c in ast.literal_eval(codes) if good_code(c) == 'YES']"
   ]
  },
  {
   "cell_type": "raw",
   "metadata": {},
   "source": [
    "test = \"['D24', 'F23', 'L13', 'L71', 'Q35']\"\n",
    "remove_sectors_codes(test)\n",
    "# retruns : ['D24', 'F23', 'L13', 'Q35']"
   ]
  },
  {
   "cell_type": "code",
   "execution_count": 17,
   "metadata": {},
   "outputs": [],
   "source": [
    "df_articles['jel_clean'] = df_articles.jel.apply(remove_sectors_codes)"
   ]
  },
  {
   "cell_type": "code",
   "execution_count": 18,
   "metadata": {},
   "outputs": [
    {
     "data": {
      "text/html": [
       "<div>\n",
       "<style scoped>\n",
       "    .dataframe tbody tr th:only-of-type {\n",
       "        vertical-align: middle;\n",
       "    }\n",
       "\n",
       "    .dataframe tbody tr th {\n",
       "        vertical-align: top;\n",
       "    }\n",
       "\n",
       "    .dataframe thead th {\n",
       "        text-align: right;\n",
       "    }\n",
       "</style>\n",
       "<table border=\"1\" class=\"dataframe\">\n",
       "  <thead>\n",
       "    <tr style=\"text-align: right;\">\n",
       "      <th></th>\n",
       "      <th>id</th>\n",
       "      <th>review</th>\n",
       "      <th>year</th>\n",
       "      <th>accept</th>\n",
       "      <th>title</th>\n",
       "      <th>jel</th>\n",
       "      <th>keywords</th>\n",
       "      <th>abstract</th>\n",
       "      <th>authors</th>\n",
       "      <th>affiliations</th>\n",
       "      <th>jel_clean</th>\n",
       "    </tr>\n",
       "  </thead>\n",
       "  <tbody>\n",
       "    <tr>\n",
       "      <th>0</th>\n",
       "      <td>4420</td>\n",
       "      <td>American Economic Review</td>\n",
       "      <td>2019</td>\n",
       "      <td>NaN</td>\n",
       "      <td>(Mis)Allocation, Market Power, and Global Oil ...</td>\n",
       "      <td>['D24', 'F23', 'L13', 'L71', 'Q35']</td>\n",
       "      <td>Cost; Crude Oil; Oil; Production</td>\n",
       "      <td>We propose an approach to measuring the misall...</td>\n",
       "      <td>Asker, John; Collard-Wexler, Allan; De Loecker...</td>\n",
       "      <td>Columbia U; Duke U; Katholieke Universiteit Le...</td>\n",
       "      <td>[D24, F23, L13, Q35]</td>\n",
       "    </tr>\n",
       "    <tr>\n",
       "      <th>1</th>\n",
       "      <td>4405</td>\n",
       "      <td>American Economic Review</td>\n",
       "      <td>2019</td>\n",
       "      <td>NaN</td>\n",
       "      <td>A Macroeconomic Model of Price Swings in the H...</td>\n",
       "      <td>['E44', 'G21', 'R31']</td>\n",
       "      <td>Credit; Finance; Financial Market; Housing; Ma...</td>\n",
       "      <td>This paper shows that a macro model with segme...</td>\n",
       "      <td>Garriga, Carlos; Manuelli, Rodolfo; Peralta-Al...</td>\n",
       "      <td>Federal Reserve Bank of St Louis; Washington U...</td>\n",
       "      <td>[E44, G21, R31]</td>\n",
       "    </tr>\n",
       "  </tbody>\n",
       "</table>\n",
       "</div>"
      ],
      "text/plain": [
       "     id                    review  year  accept  \\\n",
       "0  4420  American Economic Review  2019     NaN   \n",
       "1  4405  American Economic Review  2019     NaN   \n",
       "\n",
       "                                               title  \\\n",
       "0  (Mis)Allocation, Market Power, and Global Oil ...   \n",
       "1  A Macroeconomic Model of Price Swings in the H...   \n",
       "\n",
       "                                   jel  \\\n",
       "0  ['D24', 'F23', 'L13', 'L71', 'Q35']   \n",
       "1                ['E44', 'G21', 'R31']   \n",
       "\n",
       "                                            keywords  \\\n",
       "0                   Cost; Crude Oil; Oil; Production   \n",
       "1  Credit; Finance; Financial Market; Housing; Ma...   \n",
       "\n",
       "                                            abstract  \\\n",
       "0  We propose an approach to measuring the misall...   \n",
       "1  This paper shows that a macro model with segme...   \n",
       "\n",
       "                                             authors  \\\n",
       "0  Asker, John; Collard-Wexler, Allan; De Loecker...   \n",
       "1  Garriga, Carlos; Manuelli, Rodolfo; Peralta-Al...   \n",
       "\n",
       "                                        affiliations             jel_clean  \n",
       "0  Columbia U; Duke U; Katholieke Universiteit Le...  [D24, F23, L13, Q35]  \n",
       "1  Federal Reserve Bank of St Louis; Washington U...       [E44, G21, R31]  "
      ]
     },
     "execution_count": 18,
     "metadata": {},
     "output_type": "execute_result"
    }
   ],
   "source": [
    "df_articles.head(2)"
   ]
  },
  {
   "cell_type": "code",
   "execution_count": 19,
   "metadata": {},
   "outputs": [],
   "source": [
    "def accept_article(row):\n",
    "    # jel = ast.literal_eval(row.jel) # convert to list\n",
    "    \n",
    "    matches = [codes_dic[code] for code in row.jel_clean if code in codes_dic and codes_dic[code] == 'YES']\n",
    "    \n",
    "    if len(row.jel_clean) == len(matches):\n",
    "        return 'YES'\n",
    "    elif goods_titles_regex(row.title): # if matches by keyword in the title\n",
    "        return 'YES_TITLE'\n",
    "    else:\n",
    "        return 'NO'"
   ]
  },
  {
   "cell_type": "code",
   "execution_count": 20,
   "metadata": {},
   "outputs": [],
   "source": [
    "df_articles['accept'] = df_articles.apply(lambda row: accept_article(row), axis=1)"
   ]
  },
  {
   "cell_type": "markdown",
   "metadata": {},
   "source": [
    "**Total of accepted articles**"
   ]
  },
  {
   "cell_type": "code",
   "execution_count": 21,
   "metadata": {},
   "outputs": [
    {
     "data": {
      "text/plain": [
       "17604"
      ]
     },
     "execution_count": 21,
     "metadata": {},
     "output_type": "execute_result"
    }
   ],
   "source": [
    "len(df_articles[df_articles.accept.str.contains('YES')])"
   ]
  },
  {
   "cell_type": "code",
   "execution_count": 22,
   "metadata": {},
   "outputs": [
    {
     "data": {
      "text/plain": [
       "143"
      ]
     },
     "execution_count": 22,
     "metadata": {},
     "output_type": "execute_result"
    }
   ],
   "source": [
    "# Title special\n",
    "len(df_articles[df_articles.accept == 'YES_TITLE'])"
   ]
  },
  {
   "cell_type": "markdown",
   "metadata": {},
   "source": [
    "**Total rejected articles**"
   ]
  },
  {
   "cell_type": "code",
   "execution_count": 23,
   "metadata": {},
   "outputs": [
    {
     "data": {
      "text/plain": [
       "4659"
      ]
     },
     "execution_count": 23,
     "metadata": {},
     "output_type": "execute_result"
    }
   ],
   "source": [
    "len(df_articles[df_articles.accept == 'NO'])"
   ]
  },
  {
   "cell_type": "code",
   "execution_count": 24,
   "metadata": {},
   "outputs": [],
   "source": [
    "def highlight_cells_articles(row):\n",
    "    if row.accept == 'NO':\n",
    "        return ['background-color: #ffc2c2'] * len(row)\n",
    "    elif row.accept == 'YES_TITLE':\n",
    "        return ['background-color: #cfffd3'] * len(row)\n",
    "    else:\n",
    "        return [''] * len(row)"
   ]
  },
  {
   "cell_type": "code",
   "execution_count": 25,
   "metadata": {},
   "outputs": [],
   "source": [
    "df_articles.style.apply(lambda row: highlight_cells_articles(row), axis=1).to_excel(JOURNALS_DB_OUTPUT,index=False)"
   ]
  },
  {
   "cell_type": "code",
   "execution_count": null,
   "metadata": {},
   "outputs": [],
   "source": []
  },
  {
   "cell_type": "code",
   "execution_count": null,
   "metadata": {},
   "outputs": [],
   "source": [
    "len(df_codes[df_codes.accept == 'NO_BAD_CODE'])"
   ]
  },
  {
   "cell_type": "code",
   "execution_count": null,
   "metadata": {},
   "outputs": [],
   "source": [
    "len(df_codes)"
   ]
  },
  {
   "cell_type": "code",
   "execution_count": null,
   "metadata": {},
   "outputs": [],
   "source": []
  }
 ],
 "metadata": {
  "kernelspec": {
   "display_name": "Python [conda env:root] *",
   "language": "python",
   "name": "conda-root-py"
  },
  "language_info": {
   "codemirror_mode": {
    "name": "ipython",
    "version": 3
   },
   "file_extension": ".py",
   "mimetype": "text/x-python",
   "name": "python",
   "nbconvert_exporter": "python",
   "pygments_lexer": "ipython3",
   "version": "3.7.6"
  }
 },
 "nbformat": 4,
 "nbformat_minor": 4
}
