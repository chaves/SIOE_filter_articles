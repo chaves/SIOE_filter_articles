{
 "cells": [
  {
   "cell_type": "code",
   "execution_count": 1,
   "metadata": {},
   "outputs": [],
   "source": [
    "import pandas as pd\n",
    "import re"
   ]
  },
  {
   "cell_type": "code",
   "execution_count": 2,
   "metadata": {},
   "outputs": [],
   "source": [
    "BOARD_NAMES_SOURCE = './sources/board_names.xlsx'\n",
    "JOURNALS_DB_SOURCE = './sources/SIOE_ARTICLES_1998_2019_source.xlsx'\n",
    "JOURNALS_DB_BOARD_SOURCE = './sources/BOARD_SIOE_ARTICLES_1998_2019_source.xlsx'"
   ]
  },
  {
   "cell_type": "code",
   "execution_count": 3,
   "metadata": {},
   "outputs": [],
   "source": [
    "df_board = pd.read_excel(BOARD_NAMES_SOURCE)"
   ]
  },
  {
   "cell_type": "code",
   "execution_count": 4,
   "metadata": {},
   "outputs": [
    {
     "data": {
      "text/html": [
       "<div>\n",
       "<style scoped>\n",
       "    .dataframe tbody tr th:only-of-type {\n",
       "        vertical-align: middle;\n",
       "    }\n",
       "\n",
       "    .dataframe tbody tr th {\n",
       "        vertical-align: top;\n",
       "    }\n",
       "\n",
       "    .dataframe thead th {\n",
       "        text-align: right;\n",
       "    }\n",
       "</style>\n",
       "<table border=\"1\" class=\"dataframe\">\n",
       "  <thead>\n",
       "    <tr style=\"text-align: right;\">\n",
       "      <th></th>\n",
       "      <th>name_complete</th>\n",
       "    </tr>\n",
       "  </thead>\n",
       "  <tbody>\n",
       "    <tr>\n",
       "      <th>0</th>\n",
       "      <td>Ronald COASE</td>\n",
       "    </tr>\n",
       "    <tr>\n",
       "      <th>1</th>\n",
       "      <td>Douglass C. NORTH</td>\n",
       "    </tr>\n",
       "  </tbody>\n",
       "</table>\n",
       "</div>"
      ],
      "text/plain": [
       "       name_complete\n",
       "0       Ronald COASE\n",
       "1  Douglass C. NORTH"
      ]
     },
     "execution_count": 4,
     "metadata": {},
     "output_type": "execute_result"
    }
   ],
   "source": [
    "df_board.head(2)"
   ]
  },
  {
   "cell_type": "code",
   "execution_count": 5,
   "metadata": {},
   "outputs": [],
   "source": [
    "get_clean_mane = lambda x: f'{x.split()[-1]}, {\" \".join(x.split()[:-1])}'"
   ]
  },
  {
   "cell_type": "code",
   "execution_count": 6,
   "metadata": {},
   "outputs": [],
   "source": [
    "df_board['name'] = df_board.name_complete.apply(get_clean_mane)"
   ]
  },
  {
   "cell_type": "code",
   "execution_count": 7,
   "metadata": {},
   "outputs": [
    {
     "data": {
      "text/html": [
       "<div>\n",
       "<style scoped>\n",
       "    .dataframe tbody tr th:only-of-type {\n",
       "        vertical-align: middle;\n",
       "    }\n",
       "\n",
       "    .dataframe tbody tr th {\n",
       "        vertical-align: top;\n",
       "    }\n",
       "\n",
       "    .dataframe thead th {\n",
       "        text-align: right;\n",
       "    }\n",
       "</style>\n",
       "<table border=\"1\" class=\"dataframe\">\n",
       "  <thead>\n",
       "    <tr style=\"text-align: right;\">\n",
       "      <th></th>\n",
       "      <th>name_complete</th>\n",
       "      <th>name</th>\n",
       "    </tr>\n",
       "  </thead>\n",
       "  <tbody>\n",
       "    <tr>\n",
       "      <th>0</th>\n",
       "      <td>Ronald COASE</td>\n",
       "      <td>COASE, Ronald</td>\n",
       "    </tr>\n",
       "    <tr>\n",
       "      <th>1</th>\n",
       "      <td>Douglass C. NORTH</td>\n",
       "      <td>NORTH, Douglass C.</td>\n",
       "    </tr>\n",
       "  </tbody>\n",
       "</table>\n",
       "</div>"
      ],
      "text/plain": [
       "       name_complete                name\n",
       "0       Ronald COASE       COASE, Ronald\n",
       "1  Douglass C. NORTH  NORTH, Douglass C."
      ]
     },
     "execution_count": 7,
     "metadata": {},
     "output_type": "execute_result"
    }
   ],
   "source": [
    "df_board.head(2)"
   ]
  },
  {
   "cell_type": "code",
   "execution_count": 8,
   "metadata": {},
   "outputs": [],
   "source": [
    "names = list(df_board['name'])"
   ]
  },
  {
   "cell_type": "code",
   "execution_count": 9,
   "metadata": {},
   "outputs": [
    {
     "data": {
      "text/plain": [
       "['COASE, Ronald', 'NORTH, Douglass C.', 'NORTH, Douglass']"
      ]
     },
     "execution_count": 9,
     "metadata": {},
     "output_type": "execute_result"
    }
   ],
   "source": [
    "names[:3]"
   ]
  },
  {
   "cell_type": "code",
   "execution_count": 10,
   "metadata": {},
   "outputs": [],
   "source": [
    "def contains_a_member(my_string):\n",
    "    return 1 if any(re.search(r\"\\b\" + re.escape(name) + r\"\\b\", my_string, flags=re.IGNORECASE) for name in names) else 0"
   ]
  },
  {
   "cell_type": "code",
   "execution_count": 11,
   "metadata": {},
   "outputs": [],
   "source": [
    "df_articles = pd.read_excel(JOURNALS_DB_SOURCE)"
   ]
  },
  {
   "cell_type": "code",
   "execution_count": 12,
   "metadata": {},
   "outputs": [
    {
     "data": {
      "text/html": [
       "<div>\n",
       "<style scoped>\n",
       "    .dataframe tbody tr th:only-of-type {\n",
       "        vertical-align: middle;\n",
       "    }\n",
       "\n",
       "    .dataframe tbody tr th {\n",
       "        vertical-align: top;\n",
       "    }\n",
       "\n",
       "    .dataframe thead th {\n",
       "        text-align: right;\n",
       "    }\n",
       "</style>\n",
       "<table border=\"1\" class=\"dataframe\">\n",
       "  <thead>\n",
       "    <tr style=\"text-align: right;\">\n",
       "      <th></th>\n",
       "      <th>id</th>\n",
       "      <th>review</th>\n",
       "      <th>year</th>\n",
       "      <th>accept</th>\n",
       "      <th>title</th>\n",
       "      <th>jel</th>\n",
       "      <th>keywords</th>\n",
       "      <th>abstract</th>\n",
       "      <th>authors</th>\n",
       "      <th>affiliations</th>\n",
       "      <th>jel_clean</th>\n",
       "    </tr>\n",
       "  </thead>\n",
       "  <tbody>\n",
       "    <tr>\n",
       "      <th>0</th>\n",
       "      <td>4420</td>\n",
       "      <td>American Economic Review</td>\n",
       "      <td>2019</td>\n",
       "      <td>NaN</td>\n",
       "      <td>(Mis)Allocation, Market Power, and Global Oil ...</td>\n",
       "      <td>['D24', 'F23', 'L13', 'L71', 'Q35']</td>\n",
       "      <td>Cost; Crude Oil; Oil; Production</td>\n",
       "      <td>We propose an approach to measuring the misall...</td>\n",
       "      <td>Asker, John; Collard-Wexler, Allan; De Loecker...</td>\n",
       "      <td>Columbia U; Duke U; Katholieke Universiteit Le...</td>\n",
       "      <td>['D24', 'F23', 'L13', 'Q35']</td>\n",
       "    </tr>\n",
       "    <tr>\n",
       "      <th>1</th>\n",
       "      <td>4405</td>\n",
       "      <td>American Economic Review</td>\n",
       "      <td>2019</td>\n",
       "      <td>NaN</td>\n",
       "      <td>A Macroeconomic Model of Price Swings in the H...</td>\n",
       "      <td>['E44', 'G21', 'R31']</td>\n",
       "      <td>Credit; Finance; Financial Market; Housing; Ma...</td>\n",
       "      <td>This paper shows that a macro model with segme...</td>\n",
       "      <td>Garriga, Carlos; Manuelli, Rodolfo; Peralta-Al...</td>\n",
       "      <td>Federal Reserve Bank of St Louis; Washington U...</td>\n",
       "      <td>['E44', 'G21', 'R31']</td>\n",
       "    </tr>\n",
       "  </tbody>\n",
       "</table>\n",
       "</div>"
      ],
      "text/plain": [
       "     id                    review  year  accept  \\\n",
       "0  4420  American Economic Review  2019     NaN   \n",
       "1  4405  American Economic Review  2019     NaN   \n",
       "\n",
       "                                               title  \\\n",
       "0  (Mis)Allocation, Market Power, and Global Oil ...   \n",
       "1  A Macroeconomic Model of Price Swings in the H...   \n",
       "\n",
       "                                   jel  \\\n",
       "0  ['D24', 'F23', 'L13', 'L71', 'Q35']   \n",
       "1                ['E44', 'G21', 'R31']   \n",
       "\n",
       "                                            keywords  \\\n",
       "0                   Cost; Crude Oil; Oil; Production   \n",
       "1  Credit; Finance; Financial Market; Housing; Ma...   \n",
       "\n",
       "                                            abstract  \\\n",
       "0  We propose an approach to measuring the misall...   \n",
       "1  This paper shows that a macro model with segme...   \n",
       "\n",
       "                                             authors  \\\n",
       "0  Asker, John; Collard-Wexler, Allan; De Loecker...   \n",
       "1  Garriga, Carlos; Manuelli, Rodolfo; Peralta-Al...   \n",
       "\n",
       "                                        affiliations  \\\n",
       "0  Columbia U; Duke U; Katholieke Universiteit Le...   \n",
       "1  Federal Reserve Bank of St Louis; Washington U...   \n",
       "\n",
       "                      jel_clean  \n",
       "0  ['D24', 'F23', 'L13', 'Q35']  \n",
       "1         ['E44', 'G21', 'R31']  "
      ]
     },
     "execution_count": 12,
     "metadata": {},
     "output_type": "execute_result"
    }
   ],
   "source": [
    "df_articles.head(2)"
   ]
  },
  {
   "cell_type": "code",
   "execution_count": 13,
   "metadata": {},
   "outputs": [],
   "source": [
    "df_articles['is_board'] = df_articles.authors.apply(contains_a_member)"
   ]
  },
  {
   "cell_type": "code",
   "execution_count": 14,
   "metadata": {},
   "outputs": [
    {
     "data": {
      "text/html": [
       "<div>\n",
       "<style scoped>\n",
       "    .dataframe tbody tr th:only-of-type {\n",
       "        vertical-align: middle;\n",
       "    }\n",
       "\n",
       "    .dataframe tbody tr th {\n",
       "        vertical-align: top;\n",
       "    }\n",
       "\n",
       "    .dataframe thead th {\n",
       "        text-align: right;\n",
       "    }\n",
       "</style>\n",
       "<table border=\"1\" class=\"dataframe\">\n",
       "  <thead>\n",
       "    <tr style=\"text-align: right;\">\n",
       "      <th></th>\n",
       "      <th>id</th>\n",
       "      <th>review</th>\n",
       "      <th>year</th>\n",
       "      <th>accept</th>\n",
       "      <th>title</th>\n",
       "      <th>jel</th>\n",
       "      <th>keywords</th>\n",
       "      <th>abstract</th>\n",
       "      <th>authors</th>\n",
       "      <th>affiliations</th>\n",
       "      <th>jel_clean</th>\n",
       "      <th>is_board</th>\n",
       "    </tr>\n",
       "  </thead>\n",
       "  <tbody>\n",
       "    <tr>\n",
       "      <th>0</th>\n",
       "      <td>4420</td>\n",
       "      <td>American Economic Review</td>\n",
       "      <td>2019</td>\n",
       "      <td>NaN</td>\n",
       "      <td>(Mis)Allocation, Market Power, and Global Oil ...</td>\n",
       "      <td>['D24', 'F23', 'L13', 'L71', 'Q35']</td>\n",
       "      <td>Cost; Crude Oil; Oil; Production</td>\n",
       "      <td>We propose an approach to measuring the misall...</td>\n",
       "      <td>Asker, John; Collard-Wexler, Allan; De Loecker...</td>\n",
       "      <td>Columbia U; Duke U; Katholieke Universiteit Le...</td>\n",
       "      <td>['D24', 'F23', 'L13', 'Q35']</td>\n",
       "      <td>0</td>\n",
       "    </tr>\n",
       "    <tr>\n",
       "      <th>1</th>\n",
       "      <td>4405</td>\n",
       "      <td>American Economic Review</td>\n",
       "      <td>2019</td>\n",
       "      <td>NaN</td>\n",
       "      <td>A Macroeconomic Model of Price Swings in the H...</td>\n",
       "      <td>['E44', 'G21', 'R31']</td>\n",
       "      <td>Credit; Finance; Financial Market; Housing; Ma...</td>\n",
       "      <td>This paper shows that a macro model with segme...</td>\n",
       "      <td>Garriga, Carlos; Manuelli, Rodolfo; Peralta-Al...</td>\n",
       "      <td>Federal Reserve Bank of St Louis; Washington U...</td>\n",
       "      <td>['E44', 'G21', 'R31']</td>\n",
       "      <td>0</td>\n",
       "    </tr>\n",
       "  </tbody>\n",
       "</table>\n",
       "</div>"
      ],
      "text/plain": [
       "     id                    review  year  accept  \\\n",
       "0  4420  American Economic Review  2019     NaN   \n",
       "1  4405  American Economic Review  2019     NaN   \n",
       "\n",
       "                                               title  \\\n",
       "0  (Mis)Allocation, Market Power, and Global Oil ...   \n",
       "1  A Macroeconomic Model of Price Swings in the H...   \n",
       "\n",
       "                                   jel  \\\n",
       "0  ['D24', 'F23', 'L13', 'L71', 'Q35']   \n",
       "1                ['E44', 'G21', 'R31']   \n",
       "\n",
       "                                            keywords  \\\n",
       "0                   Cost; Crude Oil; Oil; Production   \n",
       "1  Credit; Finance; Financial Market; Housing; Ma...   \n",
       "\n",
       "                                            abstract  \\\n",
       "0  We propose an approach to measuring the misall...   \n",
       "1  This paper shows that a macro model with segme...   \n",
       "\n",
       "                                             authors  \\\n",
       "0  Asker, John; Collard-Wexler, Allan; De Loecker...   \n",
       "1  Garriga, Carlos; Manuelli, Rodolfo; Peralta-Al...   \n",
       "\n",
       "                                        affiliations  \\\n",
       "0  Columbia U; Duke U; Katholieke Universiteit Le...   \n",
       "1  Federal Reserve Bank of St Louis; Washington U...   \n",
       "\n",
       "                      jel_clean  is_board  \n",
       "0  ['D24', 'F23', 'L13', 'Q35']         0  \n",
       "1         ['E44', 'G21', 'R31']         0  "
      ]
     },
     "execution_count": 14,
     "metadata": {},
     "output_type": "execute_result"
    }
   ],
   "source": [
    "df_articles.head(2)"
   ]
  },
  {
   "cell_type": "code",
   "execution_count": 15,
   "metadata": {},
   "outputs": [
    {
     "data": {
      "text/plain": [
       "22263"
      ]
     },
     "execution_count": 15,
     "metadata": {},
     "output_type": "execute_result"
    }
   ],
   "source": [
    "len(df_articles)"
   ]
  },
  {
   "cell_type": "code",
   "execution_count": 16,
   "metadata": {},
   "outputs": [],
   "source": [
    "df_board_articles = df_articles[df_articles.is_board == 1]"
   ]
  },
  {
   "cell_type": "code",
   "execution_count": 17,
   "metadata": {},
   "outputs": [
    {
     "data": {
      "text/plain": [
       "332"
      ]
     },
     "execution_count": 17,
     "metadata": {},
     "output_type": "execute_result"
    }
   ],
   "source": [
    "len(df_board_articles)"
   ]
  },
  {
   "cell_type": "code",
   "execution_count": 18,
   "metadata": {},
   "outputs": [],
   "source": [
    "df_board_articles.to_excel(JOURNALS_DB_BOARD_SOURCE)"
   ]
  },
  {
   "cell_type": "code",
   "execution_count": null,
   "metadata": {},
   "outputs": [],
   "source": []
  }
 ],
 "metadata": {
  "kernelspec": {
   "display_name": "Python [conda env:root] *",
   "language": "python",
   "name": "conda-root-py"
  },
  "language_info": {
   "codemirror_mode": {
    "name": "ipython",
    "version": 3
   },
   "file_extension": ".py",
   "mimetype": "text/x-python",
   "name": "python",
   "nbconvert_exporter": "python",
   "pygments_lexer": "ipython3",
   "version": "3.7.6"
  }
 },
 "nbformat": 4,
 "nbformat_minor": 4
}
