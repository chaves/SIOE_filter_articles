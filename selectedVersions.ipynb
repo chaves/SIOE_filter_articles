{
 "cells": [
  {
   "cell_type": "code",
   "execution_count": 1,
   "metadata": {},
   "outputs": [],
   "source": [
    "import pandas as pd\n",
    "import re\n",
    "import ast\n",
    "import datetime"
   ]
  },
  {
   "cell_type": "code",
   "execution_count": 2,
   "metadata": {},
   "outputs": [],
   "source": [
    "CURSOR = 8\n",
    "JOURNALS_DB_BOARD_SOURCE = './sources/BOARD_SIOE_ARTICLES_1998_2019_source.xlsx'\n",
    "ARTICES_SELECT = f'./output/SIOE_journals_1998_2019_{CURSOR}_2020-04-30.xlsx'\n",
    "ARTICES_SELECT_OUTPUT = f'./output/select/SIOE_journals_1998_2019_{CURSOR}.pickle'"
   ]
  },
  {
   "cell_type": "code",
   "execution_count": 3,
   "metadata": {},
   "outputs": [],
   "source": [
    "df_articles_board = pd.read_excel(JOURNALS_DB_BOARD_SOURCE)"
   ]
  },
  {
   "cell_type": "code",
   "execution_count": 4,
   "metadata": {},
   "outputs": [
    {
     "data": {
      "text/html": [
       "<div>\n",
       "<style scoped>\n",
       "    .dataframe tbody tr th:only-of-type {\n",
       "        vertical-align: middle;\n",
       "    }\n",
       "\n",
       "    .dataframe tbody tr th {\n",
       "        vertical-align: top;\n",
       "    }\n",
       "\n",
       "    .dataframe thead th {\n",
       "        text-align: right;\n",
       "    }\n",
       "</style>\n",
       "<table border=\"1\" class=\"dataframe\">\n",
       "  <thead>\n",
       "    <tr style=\"text-align: right;\">\n",
       "      <th></th>\n",
       "      <th>Unnamed: 0</th>\n",
       "      <th>id</th>\n",
       "      <th>review</th>\n",
       "      <th>year</th>\n",
       "      <th>accept</th>\n",
       "      <th>title</th>\n",
       "      <th>jel</th>\n",
       "      <th>keywords</th>\n",
       "      <th>abstract</th>\n",
       "      <th>authors</th>\n",
       "      <th>affiliations</th>\n",
       "      <th>jel_clean</th>\n",
       "      <th>is_board</th>\n",
       "    </tr>\n",
       "  </thead>\n",
       "  <tbody>\n",
       "    <tr>\n",
       "      <th>0</th>\n",
       "      <td>349</td>\n",
       "      <td>4118</td>\n",
       "      <td>American Economic Review</td>\n",
       "      <td>2017</td>\n",
       "      <td>NaN</td>\n",
       "      <td>Relational Knowledge Transfers</td>\n",
       "      <td>['D82', 'D86', 'J24', 'M53']</td>\n",
       "      <td>Apprenticeship; Contracts; Human Capital; Trai...</td>\n",
       "      <td>We study how relational contracts mitigate Bec...</td>\n",
       "      <td>Garicano, Luis; Rayo, Luis</td>\n",
       "      <td>IE Business School, Madrid and London School o...</td>\n",
       "      <td>['D82', 'D86', 'J24', 'M53']</td>\n",
       "      <td>1</td>\n",
       "    </tr>\n",
       "    <tr>\n",
       "      <th>1</th>\n",
       "      <td>375</td>\n",
       "      <td>4132</td>\n",
       "      <td>American Economic Review</td>\n",
       "      <td>2017</td>\n",
       "      <td>NaN</td>\n",
       "      <td>Team Incentives and Performance: Evidence from...</td>\n",
       "      <td>['D22', 'J31', 'J33', 'L25', 'L81', 'M53', 'M54']</td>\n",
       "      <td>Bonus; Retail; Team; Wage</td>\n",
       "      <td>In a field experiment with a retail chain (1,3...</td>\n",
       "      <td>Friebel, Guido; Heinz, Matthias; Krueger, Miri...</td>\n",
       "      <td>Goethe U Frankfurt and IZA, Bonn; U Cologne; D...</td>\n",
       "      <td>['D22', 'J31', 'J33', 'L25', 'M53', 'M54']</td>\n",
       "      <td>1</td>\n",
       "    </tr>\n",
       "  </tbody>\n",
       "</table>\n",
       "</div>"
      ],
      "text/plain": [
       "   Unnamed: 0    id                    review  year  accept  \\\n",
       "0         349  4118  American Economic Review  2017     NaN   \n",
       "1         375  4132  American Economic Review  2017     NaN   \n",
       "\n",
       "                                               title  \\\n",
       "0                     Relational Knowledge Transfers   \n",
       "1  Team Incentives and Performance: Evidence from...   \n",
       "\n",
       "                                                 jel  \\\n",
       "0                       ['D82', 'D86', 'J24', 'M53']   \n",
       "1  ['D22', 'J31', 'J33', 'L25', 'L81', 'M53', 'M54']   \n",
       "\n",
       "                                            keywords  \\\n",
       "0  Apprenticeship; Contracts; Human Capital; Trai...   \n",
       "1                          Bonus; Retail; Team; Wage   \n",
       "\n",
       "                                            abstract  \\\n",
       "0  We study how relational contracts mitigate Bec...   \n",
       "1  In a field experiment with a retail chain (1,3...   \n",
       "\n",
       "                                             authors  \\\n",
       "0                         Garicano, Luis; Rayo, Luis   \n",
       "1  Friebel, Guido; Heinz, Matthias; Krueger, Miri...   \n",
       "\n",
       "                                        affiliations  \\\n",
       "0  IE Business School, Madrid and London School o...   \n",
       "1  Goethe U Frankfurt and IZA, Bonn; U Cologne; D...   \n",
       "\n",
       "                                    jel_clean  is_board  \n",
       "0                ['D82', 'D86', 'J24', 'M53']         1  \n",
       "1  ['D22', 'J31', 'J33', 'L25', 'M53', 'M54']         1  "
      ]
     },
     "execution_count": 4,
     "metadata": {},
     "output_type": "execute_result"
    }
   ],
   "source": [
    "df_articles_board.head(2)"
   ]
  },
  {
   "cell_type": "code",
   "execution_count": 5,
   "metadata": {},
   "outputs": [
    {
     "data": {
      "text/plain": [
       "332"
      ]
     },
     "execution_count": 5,
     "metadata": {},
     "output_type": "execute_result"
    }
   ],
   "source": [
    "len(df_articles_board)"
   ]
  },
  {
   "cell_type": "code",
   "execution_count": 6,
   "metadata": {},
   "outputs": [],
   "source": [
    "ids_board = list(df_articles_board.id)"
   ]
  },
  {
   "cell_type": "code",
   "execution_count": 7,
   "metadata": {},
   "outputs": [],
   "source": [
    "df_articles = pd.read_excel(ARTICES_SELECT)"
   ]
  },
  {
   "cell_type": "code",
   "execution_count": 8,
   "metadata": {},
   "outputs": [
    {
     "data": {
      "text/html": [
       "<div>\n",
       "<style scoped>\n",
       "    .dataframe tbody tr th:only-of-type {\n",
       "        vertical-align: middle;\n",
       "    }\n",
       "\n",
       "    .dataframe tbody tr th {\n",
       "        vertical-align: top;\n",
       "    }\n",
       "\n",
       "    .dataframe thead th {\n",
       "        text-align: right;\n",
       "    }\n",
       "</style>\n",
       "<table border=\"1\" class=\"dataframe\">\n",
       "  <thead>\n",
       "    <tr style=\"text-align: right;\">\n",
       "      <th></th>\n",
       "      <th>id</th>\n",
       "      <th>review</th>\n",
       "      <th>year</th>\n",
       "      <th>accept</th>\n",
       "      <th>title</th>\n",
       "      <th>jel</th>\n",
       "      <th>keywords</th>\n",
       "      <th>abstract</th>\n",
       "      <th>authors</th>\n",
       "      <th>affiliations</th>\n",
       "      <th>jel_clean</th>\n",
       "    </tr>\n",
       "  </thead>\n",
       "  <tbody>\n",
       "    <tr>\n",
       "      <th>0</th>\n",
       "      <td>4420</td>\n",
       "      <td>American Economic Review</td>\n",
       "      <td>2019</td>\n",
       "      <td>NO</td>\n",
       "      <td>(Mis)Allocation, Market Power, and Global Oil ...</td>\n",
       "      <td>['D24', 'F23', 'L13', 'L71', 'Q35']</td>\n",
       "      <td>Cost; Crude Oil; Oil; Production</td>\n",
       "      <td>We propose an approach to measuring the misall...</td>\n",
       "      <td>Asker, John; Collard-Wexler, Allan; De Loecker...</td>\n",
       "      <td>Columbia U; Duke U; Katholieke Universiteit Le...</td>\n",
       "      <td>['D24', 'F23', 'L13', 'Q35']</td>\n",
       "    </tr>\n",
       "    <tr>\n",
       "      <th>1</th>\n",
       "      <td>4405</td>\n",
       "      <td>American Economic Review</td>\n",
       "      <td>2019</td>\n",
       "      <td>NO</td>\n",
       "      <td>A Macroeconomic Model of Price Swings in the H...</td>\n",
       "      <td>['E44', 'G21', 'R31']</td>\n",
       "      <td>Credit; Finance; Financial Market; Housing; Ma...</td>\n",
       "      <td>This paper shows that a macro model with segme...</td>\n",
       "      <td>Garriga, Carlos; Manuelli, Rodolfo; Peralta-Al...</td>\n",
       "      <td>Federal Reserve Bank of St Louis; Washington U...</td>\n",
       "      <td>['E44', 'G21', 'R31']</td>\n",
       "    </tr>\n",
       "  </tbody>\n",
       "</table>\n",
       "</div>"
      ],
      "text/plain": [
       "     id                    review  year accept  \\\n",
       "0  4420  American Economic Review  2019     NO   \n",
       "1  4405  American Economic Review  2019     NO   \n",
       "\n",
       "                                               title  \\\n",
       "0  (Mis)Allocation, Market Power, and Global Oil ...   \n",
       "1  A Macroeconomic Model of Price Swings in the H...   \n",
       "\n",
       "                                   jel  \\\n",
       "0  ['D24', 'F23', 'L13', 'L71', 'Q35']   \n",
       "1                ['E44', 'G21', 'R31']   \n",
       "\n",
       "                                            keywords  \\\n",
       "0                   Cost; Crude Oil; Oil; Production   \n",
       "1  Credit; Finance; Financial Market; Housing; Ma...   \n",
       "\n",
       "                                            abstract  \\\n",
       "0  We propose an approach to measuring the misall...   \n",
       "1  This paper shows that a macro model with segme...   \n",
       "\n",
       "                                             authors  \\\n",
       "0  Asker, John; Collard-Wexler, Allan; De Loecker...   \n",
       "1  Garriga, Carlos; Manuelli, Rodolfo; Peralta-Al...   \n",
       "\n",
       "                                        affiliations  \\\n",
       "0  Columbia U; Duke U; Katholieke Universiteit Le...   \n",
       "1  Federal Reserve Bank of St Louis; Washington U...   \n",
       "\n",
       "                      jel_clean  \n",
       "0  ['D24', 'F23', 'L13', 'Q35']  \n",
       "1         ['E44', 'G21', 'R31']  "
      ]
     },
     "execution_count": 8,
     "metadata": {},
     "output_type": "execute_result"
    }
   ],
   "source": [
    "df_articles.head(2)"
   ]
  },
  {
   "cell_type": "code",
   "execution_count": 9,
   "metadata": {},
   "outputs": [
    {
     "data": {
      "text/plain": [
       "10586"
      ]
     },
     "execution_count": 9,
     "metadata": {},
     "output_type": "execute_result"
    }
   ],
   "source": [
    "len(df_articles[df_articles.accept != 'NO'])"
   ]
  },
  {
   "cell_type": "code",
   "execution_count": 10,
   "metadata": {},
   "outputs": [],
   "source": [
    "def selectArticles(row):\n",
    "    return True if row.accept != 'NO' or row.id in ids_board else False"
   ]
  },
  {
   "cell_type": "code",
   "execution_count": 11,
   "metadata": {},
   "outputs": [],
   "source": [
    "df_articles['select'] = df_articles.apply(selectArticles, axis = 1)"
   ]
  },
  {
   "cell_type": "code",
   "execution_count": 12,
   "metadata": {},
   "outputs": [
    {
     "data": {
      "text/html": [
       "<div>\n",
       "<style scoped>\n",
       "    .dataframe tbody tr th:only-of-type {\n",
       "        vertical-align: middle;\n",
       "    }\n",
       "\n",
       "    .dataframe tbody tr th {\n",
       "        vertical-align: top;\n",
       "    }\n",
       "\n",
       "    .dataframe thead th {\n",
       "        text-align: right;\n",
       "    }\n",
       "</style>\n",
       "<table border=\"1\" class=\"dataframe\">\n",
       "  <thead>\n",
       "    <tr style=\"text-align: right;\">\n",
       "      <th></th>\n",
       "      <th>id</th>\n",
       "      <th>review</th>\n",
       "      <th>year</th>\n",
       "      <th>accept</th>\n",
       "      <th>title</th>\n",
       "      <th>jel</th>\n",
       "      <th>keywords</th>\n",
       "      <th>abstract</th>\n",
       "      <th>authors</th>\n",
       "      <th>affiliations</th>\n",
       "      <th>jel_clean</th>\n",
       "      <th>select</th>\n",
       "    </tr>\n",
       "  </thead>\n",
       "  <tbody>\n",
       "    <tr>\n",
       "      <th>0</th>\n",
       "      <td>4420</td>\n",
       "      <td>American Economic Review</td>\n",
       "      <td>2019</td>\n",
       "      <td>NO</td>\n",
       "      <td>(Mis)Allocation, Market Power, and Global Oil ...</td>\n",
       "      <td>['D24', 'F23', 'L13', 'L71', 'Q35']</td>\n",
       "      <td>Cost; Crude Oil; Oil; Production</td>\n",
       "      <td>We propose an approach to measuring the misall...</td>\n",
       "      <td>Asker, John; Collard-Wexler, Allan; De Loecker...</td>\n",
       "      <td>Columbia U; Duke U; Katholieke Universiteit Le...</td>\n",
       "      <td>['D24', 'F23', 'L13', 'Q35']</td>\n",
       "      <td>False</td>\n",
       "    </tr>\n",
       "    <tr>\n",
       "      <th>1</th>\n",
       "      <td>4405</td>\n",
       "      <td>American Economic Review</td>\n",
       "      <td>2019</td>\n",
       "      <td>NO</td>\n",
       "      <td>A Macroeconomic Model of Price Swings in the H...</td>\n",
       "      <td>['E44', 'G21', 'R31']</td>\n",
       "      <td>Credit; Finance; Financial Market; Housing; Ma...</td>\n",
       "      <td>This paper shows that a macro model with segme...</td>\n",
       "      <td>Garriga, Carlos; Manuelli, Rodolfo; Peralta-Al...</td>\n",
       "      <td>Federal Reserve Bank of St Louis; Washington U...</td>\n",
       "      <td>['E44', 'G21', 'R31']</td>\n",
       "      <td>False</td>\n",
       "    </tr>\n",
       "  </tbody>\n",
       "</table>\n",
       "</div>"
      ],
      "text/plain": [
       "     id                    review  year accept  \\\n",
       "0  4420  American Economic Review  2019     NO   \n",
       "1  4405  American Economic Review  2019     NO   \n",
       "\n",
       "                                               title  \\\n",
       "0  (Mis)Allocation, Market Power, and Global Oil ...   \n",
       "1  A Macroeconomic Model of Price Swings in the H...   \n",
       "\n",
       "                                   jel  \\\n",
       "0  ['D24', 'F23', 'L13', 'L71', 'Q35']   \n",
       "1                ['E44', 'G21', 'R31']   \n",
       "\n",
       "                                            keywords  \\\n",
       "0                   Cost; Crude Oil; Oil; Production   \n",
       "1  Credit; Finance; Financial Market; Housing; Ma...   \n",
       "\n",
       "                                            abstract  \\\n",
       "0  We propose an approach to measuring the misall...   \n",
       "1  This paper shows that a macro model with segme...   \n",
       "\n",
       "                                             authors  \\\n",
       "0  Asker, John; Collard-Wexler, Allan; De Loecker...   \n",
       "1  Garriga, Carlos; Manuelli, Rodolfo; Peralta-Al...   \n",
       "\n",
       "                                        affiliations  \\\n",
       "0  Columbia U; Duke U; Katholieke Universiteit Le...   \n",
       "1  Federal Reserve Bank of St Louis; Washington U...   \n",
       "\n",
       "                      jel_clean  select  \n",
       "0  ['D24', 'F23', 'L13', 'Q35']   False  \n",
       "1         ['E44', 'G21', 'R31']   False  "
      ]
     },
     "execution_count": 12,
     "metadata": {},
     "output_type": "execute_result"
    }
   ],
   "source": [
    "df_articles.head(2)"
   ]
  },
  {
   "cell_type": "code",
   "execution_count": 13,
   "metadata": {},
   "outputs": [],
   "source": [
    "df_articles_select = df_articles[df_articles['select'] == True]"
   ]
  },
  {
   "cell_type": "code",
   "execution_count": 14,
   "metadata": {},
   "outputs": [
    {
     "data": {
      "text/plain": [
       "10683"
      ]
     },
     "execution_count": 14,
     "metadata": {},
     "output_type": "execute_result"
    }
   ],
   "source": [
    "len(df_articles_select)"
   ]
  },
  {
   "cell_type": "code",
   "execution_count": 15,
   "metadata": {},
   "outputs": [
    {
     "data": {
      "text/html": [
       "<div>\n",
       "<style scoped>\n",
       "    .dataframe tbody tr th:only-of-type {\n",
       "        vertical-align: middle;\n",
       "    }\n",
       "\n",
       "    .dataframe tbody tr th {\n",
       "        vertical-align: top;\n",
       "    }\n",
       "\n",
       "    .dataframe thead th {\n",
       "        text-align: right;\n",
       "    }\n",
       "</style>\n",
       "<table border=\"1\" class=\"dataframe\">\n",
       "  <thead>\n",
       "    <tr style=\"text-align: right;\">\n",
       "      <th></th>\n",
       "      <th>id</th>\n",
       "      <th>review</th>\n",
       "      <th>year</th>\n",
       "      <th>accept</th>\n",
       "      <th>title</th>\n",
       "      <th>jel</th>\n",
       "      <th>keywords</th>\n",
       "      <th>abstract</th>\n",
       "      <th>authors</th>\n",
       "      <th>affiliations</th>\n",
       "      <th>jel_clean</th>\n",
       "      <th>select</th>\n",
       "    </tr>\n",
       "  </thead>\n",
       "  <tbody>\n",
       "    <tr>\n",
       "      <th>5</th>\n",
       "      <td>4460</td>\n",
       "      <td>American Economic Review</td>\n",
       "      <td>2019</td>\n",
       "      <td>YES</td>\n",
       "      <td>An Economic Analysis of Privacy Protection and...</td>\n",
       "      <td>['C38', 'C81', 'D83']</td>\n",
       "      <td>NaN</td>\n",
       "      <td>Statistical agencies face a dual mandate to pu...</td>\n",
       "      <td>Abowd, John M.; Schmutte, Ian M.</td>\n",
       "      <td>US Census Bureau and Cornell U; U of GA</td>\n",
       "      <td>['D83']</td>\n",
       "      <td>True</td>\n",
       "    </tr>\n",
       "    <tr>\n",
       "      <th>7</th>\n",
       "      <td>4440</td>\n",
       "      <td>American Economic Review</td>\n",
       "      <td>2019</td>\n",
       "      <td>YES</td>\n",
       "      <td>Auctions with Limited Commitment</td>\n",
       "      <td>['D44', 'D82']</td>\n",
       "      <td>Auction; Equilibrium</td>\n",
       "      <td>We study the role of limited commitment in a s...</td>\n",
       "      <td>Liu, Qingmin; Mierendorff, Konrad; Shi, Xianwe...</td>\n",
       "      <td>Columbia U; U College London; U of Toronto; Co...</td>\n",
       "      <td>['D44', 'D82']</td>\n",
       "      <td>True</td>\n",
       "    </tr>\n",
       "  </tbody>\n",
       "</table>\n",
       "</div>"
      ],
      "text/plain": [
       "     id                    review  year accept  \\\n",
       "5  4460  American Economic Review  2019    YES   \n",
       "7  4440  American Economic Review  2019    YES   \n",
       "\n",
       "                                               title                    jel  \\\n",
       "5  An Economic Analysis of Privacy Protection and...  ['C38', 'C81', 'D83']   \n",
       "7                   Auctions with Limited Commitment         ['D44', 'D82']   \n",
       "\n",
       "               keywords                                           abstract  \\\n",
       "5                   NaN  Statistical agencies face a dual mandate to pu...   \n",
       "7  Auction; Equilibrium  We study the role of limited commitment in a s...   \n",
       "\n",
       "                                             authors  \\\n",
       "5                   Abowd, John M.; Schmutte, Ian M.   \n",
       "7  Liu, Qingmin; Mierendorff, Konrad; Shi, Xianwe...   \n",
       "\n",
       "                                        affiliations       jel_clean  select  \n",
       "5            US Census Bureau and Cornell U; U of GA         ['D83']    True  \n",
       "7  Columbia U; U College London; U of Toronto; Co...  ['D44', 'D82']    True  "
      ]
     },
     "execution_count": 15,
     "metadata": {},
     "output_type": "execute_result"
    }
   ],
   "source": [
    "df_articles_select.head(2)"
   ]
  },
  {
   "cell_type": "code",
   "execution_count": 16,
   "metadata": {},
   "outputs": [],
   "source": [
    "# df_articles_select[df_articles_select.accept == 'NO']"
   ]
  },
  {
   "cell_type": "code",
   "execution_count": 17,
   "metadata": {},
   "outputs": [],
   "source": [
    "df_articles_select = df_articles_select[['id', 'review', 'year', 'title', 'keywords', 'abstract']]"
   ]
  },
  {
   "cell_type": "code",
   "execution_count": 18,
   "metadata": {},
   "outputs": [],
   "source": [
    "df_articles_select.to_pickle(ARTICES_SELECT_OUTPUT)"
   ]
  },
  {
   "cell_type": "code",
   "execution_count": null,
   "metadata": {},
   "outputs": [],
   "source": []
  }
 ],
 "metadata": {
  "kernelspec": {
   "display_name": "Python [conda env:root] *",
   "language": "python",
   "name": "conda-root-py"
  },
  "language_info": {
   "codemirror_mode": {
    "name": "ipython",
    "version": 3
   },
   "file_extension": ".py",
   "mimetype": "text/x-python",
   "name": "python",
   "nbconvert_exporter": "python",
   "pygments_lexer": "ipython3",
   "version": "3.7.6"
  }
 },
 "nbformat": 4,
 "nbformat_minor": 4
}
