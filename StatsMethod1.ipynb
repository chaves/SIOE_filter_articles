{
 "cells": [
  {
   "cell_type": "code",
   "execution_count": 1,
   "metadata": {},
   "outputs": [],
   "source": [
    "import pandas as pd\n",
    "import re"
   ]
  },
  {
   "cell_type": "code",
   "execution_count": 2,
   "metadata": {},
   "outputs": [],
   "source": [
    "JOURNALS_DB_SOURCE = './output/SIOE_journals_1998_2019_8_2020-04-28.xlsx'\n",
    "JOURNALS_DB_BOARD_SOURCE = './sources/BOARD_SIOE_ARTICLES_1998_2019_source.xlsx'"
   ]
  },
  {
   "cell_type": "code",
   "execution_count": 3,
   "metadata": {},
   "outputs": [],
   "source": [
    "files = [f'./output/SIOE_journals_1998_2019_{index}_2020-04-30.xlsx' for index in range(2,9)]"
   ]
  },
  {
   "cell_type": "code",
   "execution_count": 4,
   "metadata": {},
   "outputs": [],
   "source": [
    "df_articles_board = pd.read_excel(JOURNALS_DB_BOARD_SOURCE)"
   ]
  },
  {
   "cell_type": "code",
   "execution_count": 5,
   "metadata": {},
   "outputs": [
    {
     "data": {
      "text/html": [
       "<div>\n",
       "<style scoped>\n",
       "    .dataframe tbody tr th:only-of-type {\n",
       "        vertical-align: middle;\n",
       "    }\n",
       "\n",
       "    .dataframe tbody tr th {\n",
       "        vertical-align: top;\n",
       "    }\n",
       "\n",
       "    .dataframe thead th {\n",
       "        text-align: right;\n",
       "    }\n",
       "</style>\n",
       "<table border=\"1\" class=\"dataframe\">\n",
       "  <thead>\n",
       "    <tr style=\"text-align: right;\">\n",
       "      <th></th>\n",
       "      <th>Unnamed: 0</th>\n",
       "      <th>id</th>\n",
       "      <th>review</th>\n",
       "      <th>year</th>\n",
       "      <th>accept</th>\n",
       "      <th>title</th>\n",
       "      <th>jel</th>\n",
       "      <th>keywords</th>\n",
       "      <th>abstract</th>\n",
       "      <th>authors</th>\n",
       "      <th>affiliations</th>\n",
       "      <th>jel_clean</th>\n",
       "      <th>is_board</th>\n",
       "    </tr>\n",
       "  </thead>\n",
       "  <tbody>\n",
       "    <tr>\n",
       "      <th>0</th>\n",
       "      <td>349</td>\n",
       "      <td>4118</td>\n",
       "      <td>American Economic Review</td>\n",
       "      <td>2017</td>\n",
       "      <td>NaN</td>\n",
       "      <td>Relational Knowledge Transfers</td>\n",
       "      <td>['D82', 'D86', 'J24', 'M53']</td>\n",
       "      <td>Apprenticeship; Contracts; Human Capital; Trai...</td>\n",
       "      <td>We study how relational contracts mitigate Bec...</td>\n",
       "      <td>Garicano, Luis; Rayo, Luis</td>\n",
       "      <td>IE Business School, Madrid and London School o...</td>\n",
       "      <td>['D82', 'D86', 'J24', 'M53']</td>\n",
       "      <td>1</td>\n",
       "    </tr>\n",
       "    <tr>\n",
       "      <th>1</th>\n",
       "      <td>375</td>\n",
       "      <td>4132</td>\n",
       "      <td>American Economic Review</td>\n",
       "      <td>2017</td>\n",
       "      <td>NaN</td>\n",
       "      <td>Team Incentives and Performance: Evidence from...</td>\n",
       "      <td>['D22', 'J31', 'J33', 'L25', 'L81', 'M53', 'M54']</td>\n",
       "      <td>Bonus; Retail; Team; Wage</td>\n",
       "      <td>In a field experiment with a retail chain (1,3...</td>\n",
       "      <td>Friebel, Guido; Heinz, Matthias; Krueger, Miri...</td>\n",
       "      <td>Goethe U Frankfurt and IZA, Bonn; U Cologne; D...</td>\n",
       "      <td>['D22', 'J31', 'J33', 'L25', 'M53', 'M54']</td>\n",
       "      <td>1</td>\n",
       "    </tr>\n",
       "  </tbody>\n",
       "</table>\n",
       "</div>"
      ],
      "text/plain": [
       "   Unnamed: 0    id                    review  year  accept  \\\n",
       "0         349  4118  American Economic Review  2017     NaN   \n",
       "1         375  4132  American Economic Review  2017     NaN   \n",
       "\n",
       "                                               title  \\\n",
       "0                     Relational Knowledge Transfers   \n",
       "1  Team Incentives and Performance: Evidence from...   \n",
       "\n",
       "                                                 jel  \\\n",
       "0                       ['D82', 'D86', 'J24', 'M53']   \n",
       "1  ['D22', 'J31', 'J33', 'L25', 'L81', 'M53', 'M54']   \n",
       "\n",
       "                                            keywords  \\\n",
       "0  Apprenticeship; Contracts; Human Capital; Trai...   \n",
       "1                          Bonus; Retail; Team; Wage   \n",
       "\n",
       "                                            abstract  \\\n",
       "0  We study how relational contracts mitigate Bec...   \n",
       "1  In a field experiment with a retail chain (1,3...   \n",
       "\n",
       "                                             authors  \\\n",
       "0                         Garicano, Luis; Rayo, Luis   \n",
       "1  Friebel, Guido; Heinz, Matthias; Krueger, Miri...   \n",
       "\n",
       "                                        affiliations  \\\n",
       "0  IE Business School, Madrid and London School o...   \n",
       "1  Goethe U Frankfurt and IZA, Bonn; U Cologne; D...   \n",
       "\n",
       "                                    jel_clean  is_board  \n",
       "0                ['D82', 'D86', 'J24', 'M53']         1  \n",
       "1  ['D22', 'J31', 'J33', 'L25', 'M53', 'M54']         1  "
      ]
     },
     "execution_count": 5,
     "metadata": {},
     "output_type": "execute_result"
    }
   ],
   "source": [
    "df_articles_board.head(2)"
   ]
  },
  {
   "cell_type": "code",
   "execution_count": 6,
   "metadata": {},
   "outputs": [
    {
     "data": {
      "text/plain": [
       "332"
      ]
     },
     "execution_count": 6,
     "metadata": {},
     "output_type": "execute_result"
    }
   ],
   "source": [
    "len(df_articles_board)"
   ]
  },
  {
   "cell_type": "code",
   "execution_count": 7,
   "metadata": {},
   "outputs": [],
   "source": [
    "ids_board = list(df_articles_board.id)"
   ]
  },
  {
   "cell_type": "code",
   "execution_count": 8,
   "metadata": {},
   "outputs": [
    {
     "data": {
      "text/plain": [
       "[4118, 4132, 3800]"
      ]
     },
     "execution_count": 8,
     "metadata": {},
     "output_type": "execute_result"
    }
   ],
   "source": [
    "ids_board[:3]"
   ]
  },
  {
   "cell_type": "code",
   "execution_count": 9,
   "metadata": {},
   "outputs": [],
   "source": [
    "df_stats = pd.read_excel('./output/stats.xlsx')"
   ]
  },
  {
   "cell_type": "code",
   "execution_count": 10,
   "metadata": {},
   "outputs": [],
   "source": [
    "def percent_rejected(df):\n",
    "    total = len(df)\n",
    "    return len(df[df.accept == 'NO'])/total*100"
   ]
  },
  {
   "cell_type": "code",
   "execution_count": 11,
   "metadata": {},
   "outputs": [],
   "source": [
    "for index, file in enumerate(files):\n",
    "    df = pd.read_excel(file)\n",
    "    df_filter = df[df.id.isin(ids_board)]\n",
    "    df_stats.loc[index, 'percent_rejected_global'] = percent_rejected(df)\n",
    "    df_stats.loc[index, 'percent_rejected_board'] = percent_rejected(df_filter)\n",
    "    df_stats.loc[index, 'ratio_rejected'] = percent_rejected(df)/percent_rejected(df_filter)"
   ]
  },
  {
   "cell_type": "code",
   "execution_count": 12,
   "metadata": {},
   "outputs": [
    {
     "data": {
      "text/html": [
       "<div>\n",
       "<style scoped>\n",
       "    .dataframe tbody tr th:only-of-type {\n",
       "        vertical-align: middle;\n",
       "    }\n",
       "\n",
       "    .dataframe tbody tr th {\n",
       "        vertical-align: top;\n",
       "    }\n",
       "\n",
       "    .dataframe thead th {\n",
       "        text-align: right;\n",
       "    }\n",
       "</style>\n",
       "<table border=\"1\" class=\"dataframe\">\n",
       "  <thead>\n",
       "    <tr style=\"text-align: right;\">\n",
       "      <th></th>\n",
       "      <th>cursor</th>\n",
       "      <th>accepted</th>\n",
       "      <th>accepted_title</th>\n",
       "      <th>rejected</th>\n",
       "      <th>percent_rejected_global</th>\n",
       "      <th>percent_rejected_board</th>\n",
       "      <th>ratio_rejected</th>\n",
       "    </tr>\n",
       "  </thead>\n",
       "  <tbody>\n",
       "    <tr>\n",
       "      <th>0</th>\n",
       "      <td>2</td>\n",
       "      <td>17599</td>\n",
       "      <td>138</td>\n",
       "      <td>4664</td>\n",
       "      <td>20.949558</td>\n",
       "      <td>3.915663</td>\n",
       "      <td>5.350195</td>\n",
       "    </tr>\n",
       "    <tr>\n",
       "      <th>1</th>\n",
       "      <td>3</td>\n",
       "      <td>16187</td>\n",
       "      <td>189</td>\n",
       "      <td>6076</td>\n",
       "      <td>27.291919</td>\n",
       "      <td>8.433735</td>\n",
       "      <td>3.236042</td>\n",
       "    </tr>\n",
       "  </tbody>\n",
       "</table>\n",
       "</div>"
      ],
      "text/plain": [
       "   cursor  accepted  accepted_title  rejected  percent_rejected_global  \\\n",
       "0       2     17599             138      4664                20.949558   \n",
       "1       3     16187             189      6076                27.291919   \n",
       "\n",
       "   percent_rejected_board  ratio_rejected  \n",
       "0                3.915663        5.350195  \n",
       "1                8.433735        3.236042  "
      ]
     },
     "execution_count": 12,
     "metadata": {},
     "output_type": "execute_result"
    }
   ],
   "source": [
    "df_stats.head(2)"
   ]
  },
  {
   "cell_type": "code",
   "execution_count": 13,
   "metadata": {},
   "outputs": [
    {
     "data": {
      "text/plain": [
       "<matplotlib.axes._subplots.AxesSubplot at 0x11e45c310>"
      ]
     },
     "execution_count": 13,
     "metadata": {},
     "output_type": "execute_result"
    },
    {
     "data": {
      "image/png": "[encoded data removed]",
      "text/plain": [
       "<Figure size 432x288 with 1 Axes>"
      ]
     },
     "metadata": {
      "needs_background": "light"
     },
     "output_type": "display_data"
    }
   ],
   "source": [
    "df_stats.plot(x ='cursor', y='ratio_rejected', kind = 'line')"
   ]
  },
  {
   "cell_type": "code",
   "execution_count": 14,
   "metadata": {},
   "outputs": [],
   "source": [
    "df_stats.to_excel('./output/stats.xlsx')"
   ]
  },
  {
   "cell_type": "code",
   "execution_count": null,
   "metadata": {},
   "outputs": [],
   "source": []
  }
 ],
 "metadata": {
  "kernelspec": {
   "display_name": "Python 3",
   "language": "python",
   "name": "python3"
  },
  "language_info": {
   "codemirror_mode": {
    "name": "ipython",
    "version": 3
   },
   "file_extension": ".py",
   "mimetype": "text/x-python",
   "name": "python",
   "nbconvert_exporter": "python",
   "pygments_lexer": "ipython3",
   "version": "3.7.6"
  }
 },
 "nbformat": 4,
 "nbformat_minor": 4
}
